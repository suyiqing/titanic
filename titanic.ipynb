{
 "cells": [
  {
   "cell_type": "code",
   "execution_count": 1,
   "metadata": {},
   "outputs": [],
   "source": [
    "import numpy as np\n",
    "import pandas as pd\n",
    "import os"
   ]
  },
  {
   "cell_type": "code",
   "execution_count": 2,
   "metadata": {
    "scrolled": true
   },
   "outputs": [],
   "source": [
    "#print(os.listdir(\"input\"))\n",
    "train_data = pd.read_csv(\"input/train.csv\")\n",
    "test_data = pd.read_csv(\"input/test.csv\")"
   ]
  },
  {
   "cell_type": "code",
   "execution_count": 3,
   "metadata": {},
   "outputs": [
    {
     "data": {
      "text/plain": [
       "PassengerId      0\n",
       "Survived         0\n",
       "Pclass           0\n",
       "Name             0\n",
       "Sex              0\n",
       "Age            177\n",
       "SibSp            0\n",
       "Parch            0\n",
       "Ticket           0\n",
       "Fare             0\n",
       "Cabin          687\n",
       "Embarked         2\n",
       "dtype: int64"
      ]
     },
     "execution_count": 3,
     "metadata": {},
     "output_type": "execute_result"
    }
   ],
   "source": [
    "# verify if there are missing data\n",
    "# train_data.isnull().values.any() # True, there are missing values\n",
    "# train_data.isnull().values.sum() # 866, missing values\n",
    "train_data.isnull().sum() # tells you missing values in each column"
   ]
  },
  {
   "cell_type": "code",
   "execution_count": 4,
   "metadata": {},
   "outputs": [],
   "source": [
    "train_data.drop(['Cabin', 'PassengerId', 'Ticket', 'Fare', 'Name'], axis=1, inplace=True)\n",
    "# Passenger Id: not useful\n",
    "# Cabin maybe but it is linked to the class, same for Fare\n",
    "## Embarked not that useful -> other notebook has used this and its value links with survival\n",
    "# Ticket I think it's not useful\n",
    "# Name maybe not that useful\n",
    "\n",
    "y = train_data.Survived\n",
    "train_data.drop(['Survived'], axis=1, inplace=True)"
   ]
  },
  {
   "cell_type": "code",
   "execution_count": 52,
   "metadata": {},
   "outputs": [],
   "source": [
    "from sklearn.model_selection import train_test_split\n",
    "X_train, X_valid, y_train, y_valid = train_test_split(train_data, y, test_size=0.25, random_state=0)"
   ]
  },
  {
   "cell_type": "code",
   "execution_count": 55,
   "metadata": {},
   "outputs": [],
   "source": [
    "# transferer Sex into number\n",
    "# Label encoding - normaly should verify if same content, but we know that there are only ['male', 'female']\n",
    "from sklearn.preprocessing import OneHotEncoder\n",
    "from sklearn.impute import SimpleImputer\n",
    "\n",
    "processed_X_train = X_train.copy()\n",
    "processed_X_valid = X_valid.copy()\n",
    "\n",
    "one_hot_encoder = OneHotEncoder(sparse=False, handle_unknown=\"ignore\")\n",
    "processed_X_train.Sex = one_hot_encoder.fit_transform(processed_X_train['Sex'].values.reshape(-1, 1))\n",
    "processed_X_valid.Sex = one_hot_encoder.transform(processed_X_valid['Sex'].values.reshape(-1, 1))\n",
    "\n",
    "simple_imputer = SimpleImputer(strategy=\"median\")\n",
    "processed_X_train['Age'] = simple_imputer.fit_transform(processed_X_train['Age'].values.reshape(-1, 1)).ravel()\n",
    "processed_X_valid['Age'] = simple_imputer.transform(processed_X_valid['Age'].values.reshape(-1, 1)).ravel()\n",
    "\n",
    "simple_imputer2 = SimpleImputer(strategy=\"most_frequent\")\n",
    "processed_X_train.Embarked = simple_imputer2.fit_transform(processed_X_train['Embarked'].values.reshape(-1, 1)).ravel()\n",
    "processed_X_valid.Embarked = simple_imputer2.transform(processed_X_valid['Embarked'].values.reshape(-1, 1)).ravel()\n",
    "\n",
    "processed_X_train.Embarked = one_hot_encoder.fit_transform(processed_X_train['Embarked'].values.reshape(-1, 1))\n",
    "processed_X_valid.Embarked = one_hot_encoder.transform(processed_X_valid['Embarked'].values.reshape(-1, 1))"
   ]
  },
  {
   "cell_type": "code",
   "execution_count": null,
   "metadata": {},
   "outputs": [],
   "source": [
    "# Impute missing values\n",
    "from sklearn.impute import SimpleImputer\n",
    "\n",
    "processed_X_train = pd.DataFrame(simple_imputer.fit_transform(processed_X_train))\n",
    "processed_X_valid = pd.DataFrame(simple_imputer.transform(processed_X_valid))\n",
    "\n",
    "processed_X_train.columns = X_train.columns\n",
    "processed_X_valid.columns = X_valid.columns"
   ]
  },
  {
   "cell_type": "code",
   "execution_count": 57,
   "metadata": {
    "scrolled": true
   },
   "outputs": [],
   "source": [
    "# RandomForest Model\n",
    "from sklearn.ensemble import RandomForestClassifier\n",
    "random_forest = RandomForestClassifier(n_estimators=100, random_state=0)"
   ]
  },
  {
   "cell_type": "code",
   "execution_count": 58,
   "metadata": {},
   "outputs": [],
   "source": [
    "random_forest.fit(processed_X_train, y_train)\n",
    "y_valid_predict = random_forest.predict(processed_X_valid)"
   ]
  },
  {
   "cell_type": "code",
   "execution_count": 59,
   "metadata": {},
   "outputs": [
    {
     "data": {
      "text/plain": [
       "0.7668161434977578"
      ]
     },
     "execution_count": 59,
     "metadata": {},
     "output_type": "execute_result"
    }
   ],
   "source": [
    "from sklearn.metrics import accuracy_score\n",
    "accuracy_score(y_valid, y_valid_predict, normalize=True)"
   ]
  },
  {
   "cell_type": "code",
   "execution_count": null,
   "metadata": {},
   "outputs": [],
   "source": [
    "# try to improve your model or test other models - you can read others' notebook"
   ]
  },
  {
   "cell_type": "code",
   "execution_count": null,
   "metadata": {},
   "outputs": [],
   "source": [
    "# test\n"
   ]
  }
 ],
 "metadata": {
  "kernelspec": {
   "display_name": "Python 3",
   "language": "python",
   "name": "python3"
  },
  "language_info": {
   "codemirror_mode": {
    "name": "ipython",
    "version": 2
   },
   "file_extension": ".py",
   "mimetype": "text/x-python",
   "name": "python",
   "nbconvert_exporter": "python",
   "pygments_lexer": "ipython2",
   "version": "2.7.16"
  }
 },
 "nbformat": 4,
 "nbformat_minor": 2
}
